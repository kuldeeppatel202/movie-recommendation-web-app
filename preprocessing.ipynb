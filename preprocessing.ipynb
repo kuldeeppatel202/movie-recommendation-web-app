{
 "cells": [
  {
   "cell_type": "code",
   "execution_count": 1,
   "id": "8036db9f-5593-44e4-828c-96eebe48f193",
   "metadata": {},
   "outputs": [
    {
     "name": "stdout",
     "output_type": "stream",
     "text": [
      "          id                                          title  \\\n",
      "0        278                       The Shawshank Redemption   \n",
      "1      19404                    Dilwale Dulhania Le Jayenge   \n",
      "2        238                                  The Godfather   \n",
      "3        424                               Schindler's List   \n",
      "4        240                         The Godfather: Part II   \n",
      "...      ...                                            ...   \n",
      "9995   10196                             The Last Airbender   \n",
      "9996  331446                       Sharknado 3: Oh Hell No!   \n",
      "9997   13995                                Captain America   \n",
      "9998    2312  In the Name of the King: A Dungeon Siege Tale   \n",
      "9999  455957                                         Domino   \n",
      "\n",
      "                                                 genre original_language  \\\n",
      "0                                          Drama,Crime                en   \n",
      "1                                 Comedy,Drama,Romance                hi   \n",
      "2                                          Drama,Crime                en   \n",
      "3                                    Drama,History,War                en   \n",
      "4                                          Drama,Crime                en   \n",
      "...                                                ...               ...   \n",
      "9995                          Action,Adventure,Fantasy                en   \n",
      "9996  Action,TV Movie,Science Fiction,Comedy,Adventure                en   \n",
      "9997                        Action,Science Fiction,War                en   \n",
      "9998                    Adventure,Fantasy,Action,Drama                en   \n",
      "9999                             Thriller,Action,Crime                en   \n",
      "\n",
      "                                               overview  popularity  \\\n",
      "0     Framed in the 1940s for the double murder of h...      94.075   \n",
      "1     Raj is a rich, carefree, happy-go-lucky second...      25.408   \n",
      "2     Spanning the years 1945 to 1955, a chronicle o...      90.585   \n",
      "3     The true story of how businessman Oskar Schind...      44.761   \n",
      "4     In the continuing saga of the Corleone crime f...      57.749   \n",
      "...                                                 ...         ...   \n",
      "9995  The story follows the adventures of Aang, a yo...      98.322   \n",
      "9996  The sharks take bite out of the East Coast whe...      12.490   \n",
      "9997  During World War II, a brave, patriotic Americ...      18.333   \n",
      "9998  A man named Farmer sets out to rescue his kidn...      15.159   \n",
      "9999  Seeking justice for his partner’s murder by an...      16.482   \n",
      "\n",
      "     release_date  vote_average  vote_count  \n",
      "0      1994-09-23           8.7       21862  \n",
      "1      1995-10-19           8.7        3731  \n",
      "2      1972-03-14           8.7       16280  \n",
      "3      1993-12-15           8.6       12959  \n",
      "4      1974-12-20           8.6        9811  \n",
      "...           ...           ...         ...  \n",
      "9995   2010-06-30           4.7        3347  \n",
      "9996   2015-07-22           4.7         417  \n",
      "9997   1990-12-14           4.6         332  \n",
      "9998   2007-11-29           4.7         668  \n",
      "9999   2019-05-31           4.6         221  \n",
      "\n",
      "[10000 rows x 9 columns]\n"
     ]
    }
   ],
   "source": [
    "import pandas as pd\n",
    "# If dataset.csv is in the same folder as your script\n",
    "movies = pd.read_csv('dataset.csv')\n",
    "\n",
    "print(movies)"
   ]
  },
  {
   "cell_type": "code",
   "execution_count": 2,
   "id": "f73e8b11-cf70-4616-a015-17abf3002bb4",
   "metadata": {},
   "outputs": [
    {
     "data": {
      "text/html": [
       "<div>\n",
       "<style scoped>\n",
       "    .dataframe tbody tr th:only-of-type {\n",
       "        vertical-align: middle;\n",
       "    }\n",
       "\n",
       "    .dataframe tbody tr th {\n",
       "        vertical-align: top;\n",
       "    }\n",
       "\n",
       "    .dataframe thead th {\n",
       "        text-align: right;\n",
       "    }\n",
       "</style>\n",
       "<table border=\"1\" class=\"dataframe\">\n",
       "  <thead>\n",
       "    <tr style=\"text-align: right;\">\n",
       "      <th></th>\n",
       "      <th>id</th>\n",
       "      <th>popularity</th>\n",
       "      <th>vote_average</th>\n",
       "      <th>vote_count</th>\n",
       "    </tr>\n",
       "  </thead>\n",
       "  <tbody>\n",
       "    <tr>\n",
       "      <th>count</th>\n",
       "      <td>10000.000000</td>\n",
       "      <td>10000.000000</td>\n",
       "      <td>10000.000000</td>\n",
       "      <td>10000.000000</td>\n",
       "    </tr>\n",
       "    <tr>\n",
       "      <th>mean</th>\n",
       "      <td>161243.505000</td>\n",
       "      <td>34.697267</td>\n",
       "      <td>6.621150</td>\n",
       "      <td>1547.309400</td>\n",
       "    </tr>\n",
       "    <tr>\n",
       "      <th>std</th>\n",
       "      <td>211422.046043</td>\n",
       "      <td>211.684175</td>\n",
       "      <td>0.766231</td>\n",
       "      <td>2648.295789</td>\n",
       "    </tr>\n",
       "    <tr>\n",
       "      <th>min</th>\n",
       "      <td>5.000000</td>\n",
       "      <td>0.600000</td>\n",
       "      <td>4.600000</td>\n",
       "      <td>200.000000</td>\n",
       "    </tr>\n",
       "    <tr>\n",
       "      <th>25%</th>\n",
       "      <td>10127.750000</td>\n",
       "      <td>9.154750</td>\n",
       "      <td>6.100000</td>\n",
       "      <td>315.000000</td>\n",
       "    </tr>\n",
       "    <tr>\n",
       "      <th>50%</th>\n",
       "      <td>30002.500000</td>\n",
       "      <td>13.637500</td>\n",
       "      <td>6.600000</td>\n",
       "      <td>583.500000</td>\n",
       "    </tr>\n",
       "    <tr>\n",
       "      <th>75%</th>\n",
       "      <td>310133.500000</td>\n",
       "      <td>25.651250</td>\n",
       "      <td>7.200000</td>\n",
       "      <td>1460.000000</td>\n",
       "    </tr>\n",
       "    <tr>\n",
       "      <th>max</th>\n",
       "      <td>934761.000000</td>\n",
       "      <td>10436.917000</td>\n",
       "      <td>8.700000</td>\n",
       "      <td>31917.000000</td>\n",
       "    </tr>\n",
       "  </tbody>\n",
       "</table>\n",
       "</div>"
      ],
      "text/plain": [
       "                  id    popularity  vote_average    vote_count\n",
       "count   10000.000000  10000.000000  10000.000000  10000.000000\n",
       "mean   161243.505000     34.697267      6.621150   1547.309400\n",
       "std    211422.046043    211.684175      0.766231   2648.295789\n",
       "min         5.000000      0.600000      4.600000    200.000000\n",
       "25%     10127.750000      9.154750      6.100000    315.000000\n",
       "50%     30002.500000     13.637500      6.600000    583.500000\n",
       "75%    310133.500000     25.651250      7.200000   1460.000000\n",
       "max    934761.000000  10436.917000      8.700000  31917.000000"
      ]
     },
     "execution_count": 2,
     "metadata": {},
     "output_type": "execute_result"
    }
   ],
   "source": [
    "movies.describe()\n"
   ]
  },
  {
   "cell_type": "code",
   "execution_count": 3,
   "id": "7ae07fca-a926-4012-82c0-a2b710696fc6",
   "metadata": {},
   "outputs": [
    {
     "data": {
      "text/plain": [
       "Index(['id', 'title', 'genre', 'original_language', 'overview', 'popularity',\n",
       "       'release_date', 'vote_average', 'vote_count'],\n",
       "      dtype='object')"
      ]
     },
     "execution_count": 3,
     "metadata": {},
     "output_type": "execute_result"
    }
   ],
   "source": [
    "movies.columns"
   ]
  },
  {
   "cell_type": "code",
   "execution_count": 5,
   "id": "3525120e-cbaa-4339-8066-b673fe9eb548",
   "metadata": {},
   "outputs": [
    {
     "data": {
      "text/plain": [
       "Index(['id', 'title', 'genre', 'overview'], dtype='object')"
      ]
     },
     "execution_count": 5,
     "metadata": {},
     "output_type": "execute_result"
    }
   ],
   "source": [
    "movies = movies[['id', 'title', 'genre', 'overview']]\n",
    "\n",
    "movies.columns"
   ]
  },
  {
   "cell_type": "code",
   "execution_count": 6,
   "id": "922afb39-bcf0-44f5-a41c-b0d8879e162d",
   "metadata": {},
   "outputs": [],
   "source": [
    "movies['tags'] = movies['overview'] + movies['genre']"
   ]
  },
  {
   "cell_type": "code",
   "execution_count": 6,
   "id": "00aa7443-555c-4685-9286-7688d4f9f254",
   "metadata": {},
   "outputs": [],
   "source": [
    "#new_data = movies.drop(columns= ['overview', 'genre'])"
   ]
  },
  {
   "cell_type": "code",
   "execution_count": 8,
   "id": "94a86a00-a266-4025-9ca1-56b7b98b20fd",
   "metadata": {},
   "outputs": [],
   "source": [
    "new_data = movies.head(5000)"
   ]
  },
  {
   "cell_type": "code",
   "execution_count": 9,
   "id": "d928c7cd-52b6-4a3b-945c-1d5b6dd85c18",
   "metadata": {},
   "outputs": [
    {
     "data": {
      "text/html": [
       "<div>\n",
       "<style scoped>\n",
       "    .dataframe tbody tr th:only-of-type {\n",
       "        vertical-align: middle;\n",
       "    }\n",
       "\n",
       "    .dataframe tbody tr th {\n",
       "        vertical-align: top;\n",
       "    }\n",
       "\n",
       "    .dataframe thead th {\n",
       "        text-align: right;\n",
       "    }\n",
       "</style>\n",
       "<table border=\"1\" class=\"dataframe\">\n",
       "  <thead>\n",
       "    <tr style=\"text-align: right;\">\n",
       "      <th></th>\n",
       "      <th>id</th>\n",
       "      <th>title</th>\n",
       "      <th>genre</th>\n",
       "      <th>overview</th>\n",
       "      <th>tags</th>\n",
       "    </tr>\n",
       "  </thead>\n",
       "  <tbody>\n",
       "    <tr>\n",
       "      <th>0</th>\n",
       "      <td>278</td>\n",
       "      <td>The Shawshank Redemption</td>\n",
       "      <td>Drama,Crime</td>\n",
       "      <td>Framed in the 1940s for the double murder of h...</td>\n",
       "      <td>Framed in the 1940s for the double murder of h...</td>\n",
       "    </tr>\n",
       "    <tr>\n",
       "      <th>1</th>\n",
       "      <td>19404</td>\n",
       "      <td>Dilwale Dulhania Le Jayenge</td>\n",
       "      <td>Comedy,Drama,Romance</td>\n",
       "      <td>Raj is a rich, carefree, happy-go-lucky second...</td>\n",
       "      <td>Raj is a rich, carefree, happy-go-lucky second...</td>\n",
       "    </tr>\n",
       "    <tr>\n",
       "      <th>2</th>\n",
       "      <td>238</td>\n",
       "      <td>The Godfather</td>\n",
       "      <td>Drama,Crime</td>\n",
       "      <td>Spanning the years 1945 to 1955, a chronicle o...</td>\n",
       "      <td>Spanning the years 1945 to 1955, a chronicle o...</td>\n",
       "    </tr>\n",
       "    <tr>\n",
       "      <th>3</th>\n",
       "      <td>424</td>\n",
       "      <td>Schindler's List</td>\n",
       "      <td>Drama,History,War</td>\n",
       "      <td>The true story of how businessman Oskar Schind...</td>\n",
       "      <td>The true story of how businessman Oskar Schind...</td>\n",
       "    </tr>\n",
       "    <tr>\n",
       "      <th>4</th>\n",
       "      <td>240</td>\n",
       "      <td>The Godfather: Part II</td>\n",
       "      <td>Drama,Crime</td>\n",
       "      <td>In the continuing saga of the Corleone crime f...</td>\n",
       "      <td>In the continuing saga of the Corleone crime f...</td>\n",
       "    </tr>\n",
       "    <tr>\n",
       "      <th>...</th>\n",
       "      <td>...</td>\n",
       "      <td>...</td>\n",
       "      <td>...</td>\n",
       "      <td>...</td>\n",
       "      <td>...</td>\n",
       "    </tr>\n",
       "    <tr>\n",
       "      <th>4995</th>\n",
       "      <td>32042</td>\n",
       "      <td>Night Moves</td>\n",
       "      <td>Thriller,Crime,Mystery</td>\n",
       "      <td>Private detective and former football player H...</td>\n",
       "      <td>Private detective and former football player H...</td>\n",
       "    </tr>\n",
       "    <tr>\n",
       "      <th>4996</th>\n",
       "      <td>11422</td>\n",
       "      <td>Midway</td>\n",
       "      <td>Action,Drama,History,War</td>\n",
       "      <td>This war drama depicts the U.S. and Japanese f...</td>\n",
       "      <td>This war drama depicts the U.S. and Japanese f...</td>\n",
       "    </tr>\n",
       "    <tr>\n",
       "      <th>4997</th>\n",
       "      <td>11412</td>\n",
       "      <td>The Long Kiss Goodnight</td>\n",
       "      <td>Crime,Action,Mystery,Thriller</td>\n",
       "      <td>Samantha Caine, suburban homemaker, is the ide...</td>\n",
       "      <td>Samantha Caine, suburban homemaker, is the ide...</td>\n",
       "    </tr>\n",
       "    <tr>\n",
       "      <th>4998</th>\n",
       "      <td>9614</td>\n",
       "      <td>Happy Gilmore</td>\n",
       "      <td>Comedy</td>\n",
       "      <td>Failed hockey player-turned-golf whiz Happy Gi...</td>\n",
       "      <td>Failed hockey player-turned-golf whiz Happy Gi...</td>\n",
       "    </tr>\n",
       "    <tr>\n",
       "      <th>4999</th>\n",
       "      <td>9517</td>\n",
       "      <td>Bully</td>\n",
       "      <td>Crime,Drama</td>\n",
       "      <td>A pack of naïve teenagers conspire to murder a...</td>\n",
       "      <td>A pack of naïve teenagers conspire to murder a...</td>\n",
       "    </tr>\n",
       "  </tbody>\n",
       "</table>\n",
       "<p>5000 rows × 5 columns</p>\n",
       "</div>"
      ],
      "text/plain": [
       "         id                        title                          genre  \\\n",
       "0       278     The Shawshank Redemption                    Drama,Crime   \n",
       "1     19404  Dilwale Dulhania Le Jayenge           Comedy,Drama,Romance   \n",
       "2       238                The Godfather                    Drama,Crime   \n",
       "3       424             Schindler's List              Drama,History,War   \n",
       "4       240       The Godfather: Part II                    Drama,Crime   \n",
       "...     ...                          ...                            ...   \n",
       "4995  32042                  Night Moves         Thriller,Crime,Mystery   \n",
       "4996  11422                       Midway       Action,Drama,History,War   \n",
       "4997  11412      The Long Kiss Goodnight  Crime,Action,Mystery,Thriller   \n",
       "4998   9614                Happy Gilmore                         Comedy   \n",
       "4999   9517                        Bully                    Crime,Drama   \n",
       "\n",
       "                                               overview  \\\n",
       "0     Framed in the 1940s for the double murder of h...   \n",
       "1     Raj is a rich, carefree, happy-go-lucky second...   \n",
       "2     Spanning the years 1945 to 1955, a chronicle o...   \n",
       "3     The true story of how businessman Oskar Schind...   \n",
       "4     In the continuing saga of the Corleone crime f...   \n",
       "...                                                 ...   \n",
       "4995  Private detective and former football player H...   \n",
       "4996  This war drama depicts the U.S. and Japanese f...   \n",
       "4997  Samantha Caine, suburban homemaker, is the ide...   \n",
       "4998  Failed hockey player-turned-golf whiz Happy Gi...   \n",
       "4999  A pack of naïve teenagers conspire to murder a...   \n",
       "\n",
       "                                                   tags  \n",
       "0     Framed in the 1940s for the double murder of h...  \n",
       "1     Raj is a rich, carefree, happy-go-lucky second...  \n",
       "2     Spanning the years 1945 to 1955, a chronicle o...  \n",
       "3     The true story of how businessman Oskar Schind...  \n",
       "4     In the continuing saga of the Corleone crime f...  \n",
       "...                                                 ...  \n",
       "4995  Private detective and former football player H...  \n",
       "4996  This war drama depicts the U.S. and Japanese f...  \n",
       "4997  Samantha Caine, suburban homemaker, is the ide...  \n",
       "4998  Failed hockey player-turned-golf whiz Happy Gi...  \n",
       "4999  A pack of naïve teenagers conspire to murder a...  \n",
       "\n",
       "[5000 rows x 5 columns]"
      ]
     },
     "execution_count": 9,
     "metadata": {},
     "output_type": "execute_result"
    }
   ],
   "source": [
    "new_data"
   ]
  },
  {
   "cell_type": "code",
   "execution_count": 10,
   "id": "4b2985e9-fc3a-497c-8018-080b5cd18554",
   "metadata": {},
   "outputs": [],
   "source": [
    "from sklearn.feature_extraction.text import CountVectorizer"
   ]
  },
  {
   "cell_type": "code",
   "execution_count": 11,
   "id": "ff8492b9-670b-4a03-bd59-f8226d9eda59",
   "metadata": {},
   "outputs": [],
   "source": [
    "cv = CountVectorizer(max_features = 8000, stop_words = 'english')"
   ]
  },
  {
   "cell_type": "code",
   "execution_count": 12,
   "id": "28369a95-2783-4eb2-b6c4-85fa0624a81c",
   "metadata": {},
   "outputs": [],
   "source": [
    "vector = cv.fit_transform(new_data['tags'].values.astype('U')).toarray()"
   ]
  },
  {
   "cell_type": "code",
   "execution_count": 13,
   "id": "e3f4497a-1ecc-4783-9a3d-8be7df7bd6b5",
   "metadata": {},
   "outputs": [
    {
     "data": {
      "text/plain": [
       "(5000, 8000)"
      ]
     },
     "execution_count": 13,
     "metadata": {},
     "output_type": "execute_result"
    }
   ],
   "source": [
    "vector.shape"
   ]
  },
  {
   "cell_type": "code",
   "execution_count": 14,
   "id": "0e51b418-89e0-4cc3-a2e2-3e5aaa933d42",
   "metadata": {},
   "outputs": [],
   "source": [
    "from sklearn.metrics.pairwise import cosine_similarity"
   ]
  },
  {
   "cell_type": "code",
   "execution_count": 15,
   "id": "19947eda-4068-491e-8b3c-7b7bc37bf48b",
   "metadata": {},
   "outputs": [],
   "source": [
    "similarity = cosine_similarity(vector)"
   ]
  },
  {
   "cell_type": "code",
   "execution_count": 16,
   "id": "68b65bfa-7bd9-4647-aa73-1a267236681a",
   "metadata": {},
   "outputs": [
    {
     "data": {
      "text/plain": [
       "array([[1.        , 0.05634362, 0.12888482, ..., 0.09416472, 0.        ,\n",
       "        0.16035675],\n",
       "       [0.05634362, 1.        , 0.07624929, ..., 0.06189845, 0.09284767,\n",
       "        0.05270463],\n",
       "       [0.12888482, 0.07624929, 1.        , ..., 0.11327309, 0.        ,\n",
       "        0.19289713],\n",
       "       ...,\n",
       "       [0.09416472, 0.06189845, 0.11327309, ..., 1.        , 0.        ,\n",
       "        0.05872202],\n",
       "       [0.        , 0.09284767, 0.        , ..., 0.        , 1.        ,\n",
       "        0.        ],\n",
       "       [0.16035675, 0.05270463, 0.19289713, ..., 0.05872202, 0.        ,\n",
       "        1.        ]])"
      ]
     },
     "execution_count": 16,
     "metadata": {},
     "output_type": "execute_result"
    }
   ],
   "source": [
    "similarity"
   ]
  },
  {
   "cell_type": "code",
   "execution_count": 17,
   "id": "f08cb910-2d6d-4db1-a5c8-5cfb20678ef5",
   "metadata": {},
   "outputs": [
    {
     "data": {
      "text/plain": [
       "(5000, 5000)"
      ]
     },
     "execution_count": 17,
     "metadata": {},
     "output_type": "execute_result"
    }
   ],
   "source": [
    "similarity.shape"
   ]
  },
  {
   "cell_type": "code",
   "execution_count": 18,
   "id": "3eaff895-bb22-4ea2-ab9c-829d4eeda69a",
   "metadata": {},
   "outputs": [
    {
     "name": "stdout",
     "output_type": "stream",
     "text": [
      "The Godfather\n",
      "The Godfather: Part II\n",
      "Joker\n",
      "Bomb City\n",
      "Felon\n"
     ]
    }
   ],
   "source": [
    "distance = sorted(list(enumerate(similarity[2])), reverse = True, key = lambda vector:vector[1])\n",
    "\n",
    "for i in distance[0:5]:\n",
    "    print(new_data.iloc[i[0]].title)"
   ]
  },
  {
   "cell_type": "code",
   "execution_count": 19,
   "id": "6d34c96b-8f42-4556-9412-21fbf3c682bf",
   "metadata": {},
   "outputs": [],
   "source": [
    "def recommand(movies):\n",
    "    index = new_data[new_data['title'] == movies].index[0]\n",
    "    distance = sorted(list(enumerate(similarity[index])), reverse = True, key = lambda vector:vector[1])\n",
    "    for i in distance[0:5]:\n",
    "        print(new_data.iloc[i[0]].title)"
   ]
  },
  {
   "cell_type": "code",
   "execution_count": 76,
   "id": "77126c54-f859-4736-ab29-0e3def49c066",
   "metadata": {},
   "outputs": [
    {
     "name": "stdout",
     "output_type": "stream",
     "text": [
      "Iron Man\n",
      "Iron Man 3\n",
      "Guardians of the Galaxy Vol. 2\n",
      "Star Wars: Episode III - Revenge of the Sith\n",
      "Avengers: Age of Ultron\n"
     ]
    }
   ],
   "source": [
    "recommand(\"Iron Man\")"
   ]
  },
  {
   "cell_type": "code",
   "execution_count": 20,
   "id": "1ea5f82b-e737-4c0d-918a-48d4ca91062d",
   "metadata": {},
   "outputs": [],
   "source": [
    "import pickle\n",
    "import gzip"
   ]
  },
  {
   "cell_type": "code",
   "execution_count": 21,
   "id": "47a12063-2b24-4511-af54-5a4fd08201cd",
   "metadata": {},
   "outputs": [],
   "source": [
    "with gzip.open('similarity.pkl.gz', 'wb') as f:\n",
    "    pickle.dump(similarity, f)"
   ]
  },
  {
   "cell_type": "code",
   "execution_count": 24,
   "id": "88f1f45a-5466-4b89-8241-6af702ddeaca",
   "metadata": {},
   "outputs": [],
   "source": [
    "pickle.dump(new_data, open(\"movies_list.pkl\" , 'wb'))"
   ]
  }
 ],
 "metadata": {
  "kernelspec": {
   "display_name": "Python 3 (ipykernel)",
   "language": "python",
   "name": "python3"
  },
  "language_info": {
   "codemirror_mode": {
    "name": "ipython",
    "version": 3
   },
   "file_extension": ".py",
   "mimetype": "text/x-python",
   "name": "python",
   "nbconvert_exporter": "python",
   "pygments_lexer": "ipython3",
   "version": "3.12.5"
  }
 },
 "nbformat": 4,
 "nbformat_minor": 5
}
